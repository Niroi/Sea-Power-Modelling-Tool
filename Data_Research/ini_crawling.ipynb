{
 "cells": [
  {
   "cell_type": "code",
   "execution_count": 1,
   "id": "4b366570",
   "metadata": {},
   "outputs": [],
   "source": [
    "import sys, os, pathlib, re, configparser\n",
    "from Levenshtein import distance"
   ]
  },
  {
   "cell_type": "code",
   "execution_count": 2,
   "id": "2c1f291b",
   "metadata": {},
   "outputs": [],
   "source": [
    "assets_dir = pathlib.Path.cwd().parent / \"SeaPowerStreamingAssets\"\n",
    "assets_dir  = assets_dir.resolve()\n",
    "\n",
    "vessels_dir = assets_dir / \"vessels\"\n",
    "vessels_dir = vessels_dir.resolve()\n",
    "\n",
    "vessel_dict = {}\n",
    "\n",
    "for file in vessels_dir.iterdir():\n",
    "    if(file.name.split('_', 1)[0] == 'all'):\n",
    "        if 'all' not in vessel_dict:\n",
    "            vessel_dict['all'] = {}\n",
    "        vessel_name = file.name.split('_', 1)[-1].split('.')[0]\n",
    "        vessel_dict['all'][vessel_name] = file.as_posix()\n",
    "    elif(len(file.name.split('_', 2)) == 3):\n",
    "        nation, type, vessel_name = file.name.split('_', 2)\n",
    "        vessel_name = vessel_name.split('.')[0]\n",
    "        if nation not in vessel_dict:\n",
    "            vessel_dict[nation] = {}\n",
    "        if type not in vessel_dict[nation]:\n",
    "            vessel_dict[nation][type] = {}\n",
    "        vessel_dict[nation][type][vessel_name] = file.as_posix()\n",
    "    else:\n",
    "        if 'misc' not in vessel_dict:\n",
    "            vessel_dict['misc'] = []\n",
    "        vessel_dict['misc'].append(file.as_posix())"
   ]
  },
  {
   "cell_type": "code",
   "execution_count": 3,
   "id": "f2686af5",
   "metadata": {},
   "outputs": [],
   "source": [
    "ini_options = []\n",
    "\n",
    "def gather_options(ini_path : pathlib.Path):\n",
    "    option_blocks = {}\n",
    "    setting_block = r\"\\[[A-Za-z0-9\\_]+?\\]\"\n",
    "    # section_index = 0\n",
    "    last_block = \"\"\n",
    "    last_sub_block = \"\"\n",
    "    with open(ini_path, \"r\") as f:\n",
    "        for line in f:\n",
    "            if len(line) > 0:\n",
    "                block_match = re.match(setting_block, line)\n",
    "                if block_match:\n",
    "                    if len(last_block) > 0 and block_match.group(0).strip().strip(\"[]\")[:-1] == last_block[:-1]:\n",
    "                        last_sub_block = block_match.group(0).strip().strip(\"[]\")\n",
    "                        option_blocks[last_block][last_sub_block] = {}\n",
    "                    else:\n",
    "                        last_block = block_match.group(0).strip().strip(\"[]\")\n",
    "                        option_blocks[last_block] = {}\n",
    "    ini_options.append(option_blocks)"
   ]
  },
  {
   "cell_type": "code",
   "execution_count": 17,
   "id": "44fa295d",
   "metadata": {},
   "outputs": [],
   "source": [
    "ini_variants = []\n",
    "def gather_variants(ini_path : pathlib.Path) -> None:\n",
    "    option_blocks = {\"Variants\" : {}, \"General\" : {}, \"Default\" : {}}\n",
    "    setting_block = r\"\\[[A-Za-z0-9\\_]+?\\]\"\n",
    "    leading_comment = r\"[\\/\\#]+?\"\n",
    "    last_block = \"\"\n",
    "    idx = 0\n",
    "    line_num = 0\n",
    "    with open(ini_path, \"r\") as f:\n",
    "        for line in f:\n",
    "            if len(line) > 1:\n",
    "                block_match = re.match(setting_block, line)\n",
    "                comment_match = re.match(leading_comment, line)\n",
    "                if block_match:\n",
    "                    block_name = block_match.group(0).strip().strip(\"[]\")\n",
    "                    last_block = block_name\n",
    "                    if \"Variant\" in block_name:\n",
    "                        idx = block_name[-1]\n",
    "                        option_blocks[\"Variants\"][idx] = {}\n",
    "                    else:\n",
    "                        option_blocks[block_name] = {}\n",
    "                else:\n",
    "                    if not comment_match:\n",
    "                        try:\n",
    "                            option, value = line.split()[0].split(\"=\")\n",
    "                            if \"Variant\" in last_block:\n",
    "                                option_blocks[\"Variants\"][idx][option] = value\n",
    "                            else:\n",
    "                                option_blocks[last_block][option] = value\n",
    "                        except Exception as e:\n",
    "                            print(line_num, line)\n",
    "                            print(ini_path)\n",
    "                            raise e\n",
    "            line_num += 1\n",
    "    ini_variants.append(option_blocks)"
   ]
  },
  {
   "cell_type": "code",
   "execution_count": 19,
   "id": "ea4879fa",
   "metadata": {},
   "outputs": [
    {
     "name": "stdout",
     "output_type": "stream",
     "text": [
      "190 [-Variant17]\n",
      "\n",
      "/home/mortenh/.local/share/Steam/steamapps/common/Sea Power/Sea Power_Data/StreamingAssets/original/vessels/civ_ms_freighter_b_variants.ini\n"
     ]
    },
    {
     "ename": "ValueError",
     "evalue": "not enough values to unpack (expected 2, got 1)",
     "output_type": "error",
     "traceback": [
      "\u001b[31m---------------------------------------------------------------------------\u001b[39m",
      "\u001b[31mValueError\u001b[39m                                Traceback (most recent call last)",
      "\u001b[36mCell\u001b[39m\u001b[36m \u001b[39m\u001b[32mIn[19]\u001b[39m\u001b[32m, line 9\u001b[39m\n\u001b[32m      7\u001b[39m \u001b[38;5;28;01mfor\u001b[39;00m vessel_k, vessel_v \u001b[38;5;129;01min\u001b[39;00m vessel_dict[nation_k][type_k].items():\n\u001b[32m      8\u001b[39m     \u001b[38;5;28;01mif\u001b[39;00m \u001b[33m'\u001b[39m\u001b[33mvariants\u001b[39m\u001b[33m'\u001b[39m \u001b[38;5;129;01min\u001b[39;00m vessel_v:\n\u001b[32m----> \u001b[39m\u001b[32m9\u001b[39m         \u001b[43mgather_variants\u001b[49m\u001b[43m(\u001b[49m\u001b[43mvessel_v\u001b[49m\u001b[43m)\u001b[49m\n\u001b[32m     10\u001b[39m     \u001b[38;5;28;01melse\u001b[39;00m:\n\u001b[32m     11\u001b[39m         gather_options(vessel_v)\n",
      "\u001b[36mCell\u001b[39m\u001b[36m \u001b[39m\u001b[32mIn[17]\u001b[39m\u001b[32m, line 33\u001b[39m, in \u001b[36mgather_variants\u001b[39m\u001b[34m(ini_path)\u001b[39m\n\u001b[32m     31\u001b[39m                         \u001b[38;5;28mprint\u001b[39m(line_num, line)\n\u001b[32m     32\u001b[39m                         \u001b[38;5;28mprint\u001b[39m(ini_path)\n\u001b[32m---> \u001b[39m\u001b[32m33\u001b[39m                         \u001b[38;5;28;01mraise\u001b[39;00m e\n\u001b[32m     34\u001b[39m         line_num += \u001b[32m1\u001b[39m\n\u001b[32m     35\u001b[39m ini_variants.append(option_blocks)\n",
      "\u001b[36mCell\u001b[39m\u001b[36m \u001b[39m\u001b[32mIn[17]\u001b[39m\u001b[32m, line 25\u001b[39m, in \u001b[36mgather_variants\u001b[39m\u001b[34m(ini_path)\u001b[39m\n\u001b[32m     23\u001b[39m \u001b[38;5;28;01mif\u001b[39;00m \u001b[38;5;129;01mnot\u001b[39;00m comment_match:\n\u001b[32m     24\u001b[39m     \u001b[38;5;28;01mtry\u001b[39;00m:\n\u001b[32m---> \u001b[39m\u001b[32m25\u001b[39m         option, value = line.split()[\u001b[32m0\u001b[39m].split(\u001b[33m\"\u001b[39m\u001b[33m=\u001b[39m\u001b[33m\"\u001b[39m)\n\u001b[32m     26\u001b[39m         \u001b[38;5;28;01mif\u001b[39;00m \u001b[33m\"\u001b[39m\u001b[33mVariant\u001b[39m\u001b[33m\"\u001b[39m \u001b[38;5;129;01min\u001b[39;00m last_block:\n\u001b[32m     27\u001b[39m             option_blocks[\u001b[33m\"\u001b[39m\u001b[33mVariants\u001b[39m\u001b[33m\"\u001b[39m][idx][option] = value\n",
      "\u001b[31mValueError\u001b[39m: not enough values to unpack (expected 2, got 1)"
     ]
    }
   ],
   "source": [
    "ini_options = []\n",
    "ini_variants = []\n",
    "for nation_k, nation_v in vessel_dict.items():\n",
    "    if isinstance(nation_v, dict):\n",
    "        for type_k, type_v in vessel_dict[nation_k].items():\n",
    "            if isinstance(type_v, dict):\n",
    "                for vessel_k, vessel_v in vessel_dict[nation_k][type_k].items():\n",
    "                    if 'variants' in vessel_v:\n",
    "                        gather_variants(vessel_v)\n",
    "                    else:\n",
    "                        gather_options(vessel_v)\n",
    "            elif isinstance(type_v, list):\n",
    "                print(\"list: \", type_v)\n",
    "                for vessel_name in vessel_dict[nation_k][type_k]:\n",
    "                    if 'variants' in vessel_v:\n",
    "                        gather_variants(vessel_v)\n",
    "                    else:\n",
    "                        gather_options(vessel_v)\n",
    "    elif isinstance(nation_v, list):\n",
    "        for vessel_path in nation_v:\n",
    "            if 'variants' in vessel_v:\n",
    "                gather_variants(vessel_v)\n",
    "            else:\n",
    "                gather_options(vessel_v)\n",
    "len(ini_options)"
   ]
  },
  {
   "cell_type": "code",
   "execution_count": null,
   "id": "faec2d03",
   "metadata": {},
   "outputs": [],
   "source": [
    "for ini_content in ini_options:\n",
    "    for k, v in ini_content.items():\n",
    "        if len(v.keys()) > 0:\n",
    "            print(k, ini_content[k])\n",
    "    "
   ]
  },
  {
   "cell_type": "code",
   "execution_count": null,
   "id": "4c80f2f1",
   "metadata": {},
   "outputs": [],
   "source": []
  }
 ],
 "metadata": {
  "kernelspec": {
   "display_name": ".venv",
   "language": "python",
   "name": "python3"
  },
  "language_info": {
   "codemirror_mode": {
    "name": "ipython",
    "version": 3
   },
   "file_extension": ".py",
   "mimetype": "text/x-python",
   "name": "python",
   "nbconvert_exporter": "python",
   "pygments_lexer": "ipython3",
   "version": "3.13.7"
  }
 },
 "nbformat": 4,
 "nbformat_minor": 5
}
