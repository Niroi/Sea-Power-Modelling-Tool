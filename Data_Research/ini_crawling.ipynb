{
 "cells": [
  {
   "cell_type": "code",
   "execution_count": 25,
   "id": "4b366570",
   "metadata": {},
   "outputs": [],
   "source": [
    "import sys, os, pathlib, re, configparser"
   ]
  },
  {
   "cell_type": "code",
   "execution_count": 26,
   "id": "2c1f291b",
   "metadata": {},
   "outputs": [],
   "source": [
    "assets_dir = pathlib.Path.cwd().parent / \"SeaPowerStreamingAssets\"\n",
    "assets_dir  = assets_dir.resolve()\n",
    "\n",
    "vessels_dir = assets_dir / \"vessels\"\n",
    "vessels_dir = vessels_dir.resolve()\n",
    "\n",
    "vessel_dict = {}\n",
    "\n",
    "for file in vessels_dir.iterdir():\n",
    "    if(file.name.split('_', 1)[0] == 'all'):\n",
    "        if 'all' not in vessel_dict:\n",
    "            vessel_dict['all'] = {}\n",
    "        vessel_name = file.name.split('_', 1)[-1].split('.')[0]\n",
    "        vessel_dict['all'][vessel_name] = file.as_posix()\n",
    "    elif(len(file.name.split('_', 2)) == 3):\n",
    "        nation, type, vessel_name = file.name.split('_', 2)\n",
    "        vessel_name = vessel_name.split('.')[0]\n",
    "        if nation not in vessel_dict:\n",
    "            vessel_dict[nation] = {}\n",
    "        if type not in vessel_dict[nation]:\n",
    "            vessel_dict[nation][type] = {}\n",
    "        \n",
    "        vessel_dict[nation][type][vessel_name] = file.as_posix()\n",
    "    else:\n",
    "        if 'misc' not in vessel_dict:\n",
    "            vessel_dict['misc'] = []\n",
    "        vessel_dict['misc'].append(file.as_posix())"
   ]
  },
  {
   "cell_type": "code",
   "execution_count": null,
   "id": "f2686af5",
   "metadata": {},
   "outputs": [],
   "source": [
    "ini_options = set()\n",
    "option_blocks = []\n",
    "def gather_options(ini_path : pathlib.Path):\n",
    "    setting_block = r\"\\[[A-Za-z0-9\\_]+?\\]\"\n",
    "    # section_index = 0\n",
    "    last_block = \"\"\n",
    "    last_sub_block = \"\"\n",
    "    with open(ini_path, \"r\") as f:\n",
    "        for line in f:\n",
    "            if len(line) > 0:\n",
    "                block_match = re.match(setting_block, line)\n",
    "                if block_match:\n",
    "                    if block_match.group(0)[-1] == last_block:\n",
    "                        last_sub_block = block_match.group(0).strip()\n",
    "                        option_blocks[-1][last_sub_block] = {\"name\" : last_sub_block}\n",
    "                    else:\n",
    "                        last_block = block_match.group(0).strip()\n",
    "                        option_blocks.append({\"name\" : last_block})\n",
    "    print(option_blocks)\n",
    "                    \n",
    "            "
   ]
  },
  {
   "cell_type": "code",
   "execution_count": 31,
   "id": "ea4879fa",
   "metadata": {},
   "outputs": [
    {
     "ename": "IndexError",
     "evalue": "no such group",
     "output_type": "error",
     "traceback": [
      "\u001b[31m---------------------------------------------------------------------------\u001b[39m",
      "\u001b[31mIndexError\u001b[39m                                Traceback (most recent call last)",
      "\u001b[36mCell\u001b[39m\u001b[36m \u001b[39m\u001b[32mIn[31]\u001b[39m\u001b[32m, line 6\u001b[39m\n\u001b[32m      4\u001b[39m \u001b[38;5;28;01mif\u001b[39;00m \u001b[38;5;28misinstance\u001b[39m(type_v, \u001b[38;5;28mdict\u001b[39m):\n\u001b[32m      5\u001b[39m     \u001b[38;5;28;01mfor\u001b[39;00m vessel_k, vessel_v \u001b[38;5;129;01min\u001b[39;00m vessel_dict[nation_k][type_k].items():\n\u001b[32m----> \u001b[39m\u001b[32m6\u001b[39m         \u001b[43mgather_options\u001b[49m\u001b[43m(\u001b[49m\u001b[43mvessel_v\u001b[49m\u001b[43m)\u001b[49m\n\u001b[32m      7\u001b[39m \u001b[38;5;28;01melif\u001b[39;00m \u001b[38;5;28misinstance\u001b[39m(type_v, \u001b[38;5;28mlist\u001b[39m):\n\u001b[32m      8\u001b[39m     \u001b[38;5;28mprint\u001b[39m(\u001b[33m\"\u001b[39m\u001b[33mlist: \u001b[39m\u001b[33m\"\u001b[39m, type_v)\n",
      "\u001b[36mCell\u001b[39m\u001b[36m \u001b[39m\u001b[32mIn[30]\u001b[39m\u001b[32m, line 13\u001b[39m, in \u001b[36mgather_options\u001b[39m\u001b[34m(ini_path)\u001b[39m\n\u001b[32m     11\u001b[39m block_match = re.match(setting_block, line)\n\u001b[32m     12\u001b[39m \u001b[38;5;28;01mif\u001b[39;00m block_match:\n\u001b[32m---> \u001b[39m\u001b[32m13\u001b[39m     \u001b[38;5;28;01mif\u001b[39;00m \u001b[43mblock_match\u001b[49m\u001b[43m[\u001b[49m\u001b[43m-\u001b[49m\u001b[32;43m1\u001b[39;49m\u001b[43m]\u001b[49m == last_block:\n\u001b[32m     14\u001b[39m         last_sub_block = block_match.group(\u001b[32m0\u001b[39m).strip()\n\u001b[32m     15\u001b[39m         option_blocks[-\u001b[32m1\u001b[39m][last_sub_block] = {\u001b[33m\"\u001b[39m\u001b[33mname\u001b[39m\u001b[33m\"\u001b[39m : last_sub_block}\n",
      "\u001b[31mIndexError\u001b[39m: no such group"
     ]
    }
   ],
   "source": [
    "for nation_k, nation_v in vessel_dict.items():\n",
    "    if isinstance(nation_v, dict):\n",
    "        for type_k, type_v in vessel_dict[nation_k].items():\n",
    "            if isinstance(type_v, dict):\n",
    "                for vessel_k, vessel_v in vessel_dict[nation_k][type_k].items():\n",
    "                    gather_options(vessel_v)\n",
    "            elif isinstance(type_v, list):\n",
    "                print(\"list: \", type_v)\n",
    "                for vessel_name in vessel_dict[nation_k][type_k]:\n",
    "                    gather_options(vessel_v)\n",
    "    elif isinstance(nation_v, list):\n",
    "        for vessel_path in nation_v:\n",
    "            gather_options(vessel_v)"
   ]
  },
  {
   "cell_type": "code",
   "execution_count": null,
   "id": "faec2d03",
   "metadata": {},
   "outputs": [],
   "source": [
    "sorted_ini_options = sorted(list(ini_options), key=lambda x: x[0])\n",
    "sorted_ini_options"
   ]
  },
  {
   "cell_type": "code",
   "execution_count": null,
   "id": "4c80f2f1",
   "metadata": {},
   "outputs": [],
   "source": []
  }
 ],
 "metadata": {
  "kernelspec": {
   "display_name": ".venv",
   "language": "python",
   "name": "python3"
  },
  "language_info": {
   "codemirror_mode": {
    "name": "ipython",
    "version": 3
   },
   "file_extension": ".py",
   "mimetype": "text/x-python",
   "name": "python",
   "nbconvert_exporter": "python",
   "pygments_lexer": "ipython3",
   "version": "3.13.7"
  }
 },
 "nbformat": 4,
 "nbformat_minor": 5
}
